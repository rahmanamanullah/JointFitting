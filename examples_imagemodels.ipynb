{
 "cells": [
  {
   "cell_type": "markdown",
   "metadata": {},
   "source": [
    "# PSF\n",
    "## Moffat2D"
   ]
  },
  {
   "cell_type": "code",
   "execution_count": null,
   "metadata": {
    "collapsed": false
   },
   "outputs": [],
   "source": [
    "%matplotlib inline\n",
    "import numpy as np\n",
    "import matplotlib.pyplot as plt\n",
    "import matplotlib.cm as cm\n",
    "from jfit.psf import SymmetricMoffat2D\n",
    "\n",
    "# psf model to study\n",
    "p = SymmetricMoffat2D()\n",
    "\n",
    "# patch half width and maximum oversampling factor to study\n",
    "hpw = 3\n",
    "maxsamp = 21\n",
    "\n",
    "# setup PSF values\n",
    "p.x_0 = hpw\n",
    "p.y_0 = hpw\n",
    "p.fwhm = 1\n",
    "p.alpha = 2\n",
    "k = p.kernel(3)\n",
    "\n",
    "nx,ny = 2*hpw+1,2*hpw+1\n",
    "y, x = np.mgrid[:nx, :ny]\n",
    "#z = 0.0*x\n",
    "#r = np.sqrt( (x-p.x_0)**2 + (y-p.y_0)**2 )\n",
    "\n",
    "# plot the 2D PSF\n",
    "fig = plt.figure(figsize=(12,3))\n",
    "fig.subplots_adjust(hspace=0.3,wspace=0.3)\n",
    "ax = fig.add_subplot(131)\n",
    "k  = p(x,y)\n",
    "ax.imshow(k**0.3,interpolation='nearest',origin='lower',cmap='gray')\n",
    "ax.set_title('PSF')\n",
    "ax.set_xlabel('x (px)')\n",
    "ax.set_ylabel('y (px)')\n",
    "\n",
    "# plot the theoretical PSF profile by generating a PSF with the\n",
    "# highest subsampling factor and extract the profile from this.\n",
    "xx,yy = p._oversample_input(x,y,maxsamp)\n",
    "kk = p._oversampled_model(x,y,maxsamp,\n",
    "          p.amplitude.value,p.x_0.value,p.y_0.value,p.fwhm.value,p.alpha.value)\n",
    "\n",
    "# the position of the central value in the oversampled image\n",
    "x_1 = int((p.x_0+0.5)*maxsamp - 0.5)\n",
    "y_1 = int((p.y_0+0.5)*maxsamp - 0.5)\n",
    "ax.plot(xx[y_1,:],yy[y_1,:],'w--')\n",
    "ax.set_xlim((-0.5,nx-0.5))\n",
    "ax.set_ylim((-0.5,ny-0.5))\n",
    "\n",
    "# plot the profile along the x-axis for the pixel that goes through the\n",
    "# center of the PSF\n",
    "if maxsamp % 2:\n",
    "    hs = (maxsamp-1)/2 # assuming maxsamp is odd\n",
    "else:\n",
    "    hs = (maxsamp+1)/2\n",
    "\n",
    "ax = fig.add_subplot(132)\n",
    "\n",
    "# this plots the profile values of along y=hpw marked by the dotted line\n",
    "# in the first panel\n",
    "ax.plot(xx[y_1,:],kk[y_1,:]*maxsamp*maxsamp,color='k',ls=':',label='Profile')\n",
    "\n",
    "# below we sum over all over sampled pixels to the original resolution of\n",
    "# the image\n",
    "# ax.plot(xx[x_1,:],kk[:,x_1-hs:x_1+hs].sum(-1)*maxsamp,'k-')\n",
    "\n",
    "# calculate the sum of the PSF w.r.t to no over sampling\n",
    "facto = np.linspace(1,maxsamp,maxsamp)\n",
    "maxiter = 4\n",
    "color = iter(cm.rainbow(np.linspace(0,1,maxiter+1)))\n",
    "c = 'k'\n",
    "delta = []\n",
    "for n in facto:\n",
    "    p.sample_factor = n\n",
    "    if n < maxiter:\n",
    "        ax.step(x[hpw,:],p(x,y)[:,hpw],where='mid',color=c,label='$n=%d$'%(n))\n",
    "        c = next(color)\n",
    "    \n",
    "    kk = p._oversample_model(x,y,n,\n",
    "          p.amplitude.value,p.x_0.value,p.y_0.value,p.fwhm.value,p.alpha.value)\n",
    "    delta.append((k.sum()-kk.sum())/k.sum())\n",
    "\n",
    "ax.step(x[hpw,:],p(x,y)[:,hpw],where='mid',color=c,label='$n=%d$'%(n))\n",
    "ax.legend(loc=1,ncol=1,prop={'size':8})\n",
    "ax.set_ylabel('Relative flux')\n",
    "ax.set_xlabel('x (px)')\n",
    "ax.set_title('Profile')\n",
    "\n",
    "# convert the delta to a relative improvement over the preceding \n",
    "# oversampling factor\n",
    "delta = np.array(delta)\n",
    "delta = (delta[1:] - delta[:-1])/(delta[1:])\n",
    "\n",
    "ax = fig.add_subplot(133)\n",
    "ax.plot(facto[:-1],delta,marker='.',ls='')\n",
    "ax.axhline(0.,color='k',ls=':')\n",
    "ax.set_ylabel('relative improvement')\n",
    "ax.set_xlabel('oversampling factor')\n",
    "ax.set_ylim((0.,0.04))\n",
    "#ax.axhline(0.01,color='k',ls=':')\n",
    "#ax.imshow(kk,interpolation='nearest',origin='lower')\n",
    "\n",
    "plt.show()\n",
    "plt.close()"
   ]
  },
  {
   "cell_type": "markdown",
   "metadata": {},
   "source": [
    "The first panel (PSF) above shows the Moffat profile in the original resolution.\n",
    "\n",
    "The second panel shows the pixel values for different oversampling factors ($n=1,2,3,21$) along the intersection indicated by the dashed line in the PSF panel.  The dotted line in the background show the profile along this line for the highest oversampling factor before rebinning back to the original resolution (i.e. close to the theoretical profile).  For $n=1$ we see that the binned values are simply drawn from the central values of the theoretical profile for each bin, while for higher sampling factor the average is calculated in each bin to conserve the surface brightness.  Keep in mind that this is a 1D represenation of the 2D profile, which explains why for example the central bin appears higher than what is suggested by the figure.\n",
    "\n",
    "The third panel is showing how the relative improvement in the total flux of the profile with respect to the previous oversampling factor."
   ]
  },
  {
   "cell_type": "markdown",
   "metadata": {
    "collapsed": true
   },
   "source": [
    "# Sersic"
   ]
  },
  {
   "cell_type": "code",
   "execution_count": 1,
   "metadata": {
    "collapsed": false
   },
   "outputs": [
    {
     "data": {
      "image/png": "[encoded data removed]",
      "text/plain": [
       "<matplotlib.figure.Figure at 0x1099e0510>"
      ]
     },
     "metadata": {},
     "output_type": "display_data"
    }
   ],
   "source": [
    "import numpy as np\n",
    "import matplotlib.pyplot as plt\n",
    "from jfit.models import Sersic2D\n",
    "\n",
    "# setup grid\n",
    "hpw = 10\n",
    "nx,ny = 2*hpw+1,2*hpw+1\n",
    "y, x = np.mgrid[:nx, :ny]\n",
    "\n",
    "s = Sersic2D(x_0=hpw,y_0=hpw,n=2,r_eff=0.5*hpw)\n",
    "ss = s(x,y)\n",
    "\n",
    "fig = plt.figure()\n",
    "ax = fig.add_subplot(111)\n",
    "#ax.imshow(ss**0.25,vmin=0.,vmax=np.max(ss**0.25),origin='lower',cmap='gray')\n",
    "ax.imshow(ss,vmin=0.,vmax=ss.max(),origin='lower',cmap='gray')\n",
    "plt.show()\n",
    "plt.close()"
   ]
  },
  {
   "cell_type": "code",
   "execution_count": null,
   "metadata": {
    "collapsed": true
   },
   "outputs": [],
   "source": []
  }
 ],
 "metadata": {
  "anaconda-cloud": {},
  "kernelspec": {
   "display_name": "Python [default]",
   "language": "python",
   "name": "python2"
  },
  "language_info": {
   "codemirror_mode": {
    "name": "ipython",
    "version": 2
   },
   "file_extension": ".py",
   "mimetype": "text/x-python",
   "name": "python",
   "nbconvert_exporter": "python",
   "pygments_lexer": "ipython2",
   "version": "2.7.12"
  }
 },
 "nbformat": 4,
 "nbformat_minor": 1
}
