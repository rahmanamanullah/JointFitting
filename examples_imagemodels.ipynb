{
 "cells": [
  {
   "cell_type": "markdown",
   "metadata": {},
   "source": [
    "# PSF\n",
    "## Moffat2D"
   ]
  },
  {
   "cell_type": "code",
   "execution_count": null,
   "metadata": {
    "collapsed": false
   },
   "outputs": [],
   "source": [
    "%matplotlib inline\n",
    "import numpy as np\n",
    "import matplotlib.pyplot as plt\n",
    "import matplotlib.cm as cm\n",
    "from jfit.psf import SymmetricMoffat2D\n",
    "\n",
    "# psf model to study\n",
    "p = SymmetricMoffat2D()\n",
    "\n",
    "# patch half width and maximum oversampling factor to study\n",
    "hpw = 3\n",
    "maxsamp = 21\n",
    "\n",
    "# setup PSF values\n",
    "p.x_0 = hpw\n",
    "p.y_0 = hpw\n",
    "p.fwhm = 1\n",
    "p.alpha = 2\n",
    "k = p.kernel(3)\n",
    "\n",
    "nx,ny = 2*hpw+1,2*hpw+1\n",
    "y, x = np.mgrid[:nx, :ny]\n",
    "#z = 0.0*x\n",
    "#r = np.sqrt( (x-p.x_0)**2 + (y-p.y_0)**2 )\n",
    "\n",
    "# plot the 2D PSF\n",
    "fig = plt.figure(figsize=(12,3))\n",
    "fig.subplots_adjust(hspace=0.3,wspace=0.3)\n",
    "ax = fig.add_subplot(131)\n",
    "k  = p(x,y)\n",
    "ax.imshow(k**0.3,interpolation='nearest',origin='lower',cmap='gray')\n",
    "ax.set_title('PSF')\n",
    "ax.set_xlabel('x (px)')\n",
    "ax.set_ylabel('y (px)')\n",
    "\n",
    "# plot the theoretical PSF profile by generating a PSF with the\n",
    "# highest subsampling factor and extract the profile from this.\n",
    "xx,yy = p._oversample_input(x,y,maxsamp)\n",
    "kk = p._oversampled_model(x,y,maxsamp,\n",
    "          p.amplitude.value,p.x_0.value,p.y_0.value,p.fwhm.value,p.alpha.value)\n",
    "\n",
    "# the position of the central value in the oversampled image\n",
    "x_1 = int((p.x_0+0.5)*maxsamp - 0.5)\n",
    "y_1 = int((p.y_0+0.5)*maxsamp - 0.5)\n",
    "ax.plot(xx[y_1,:],yy[y_1,:],'w--')\n",
    "ax.set_xlim((-0.5,nx-0.5))\n",
    "ax.set_ylim((-0.5,ny-0.5))\n",
    "\n",
    "# plot the profile along the x-axis for the pixel that goes through the\n",
    "# center of the PSF\n",
    "if maxsamp % 2:\n",
    "    hs = (maxsamp-1)/2 # assuming maxsamp is odd\n",
    "else:\n",
    "    hs = (maxsamp+1)/2\n",
    "\n",
    "ax = fig.add_subplot(132)\n",
    "\n",
    "# this plots the profile values of along y=hpw marked by the dotted line\n",
    "# in the first panel\n",
    "ax.plot(xx[y_1,:],kk[y_1,:]*maxsamp*maxsamp,color='k',ls=':',label='Profile')\n",
    "\n",
    "# below we sum over all over sampled pixels to the original resolution of\n",
    "# the image\n",
    "# ax.plot(xx[x_1,:],kk[:,x_1-hs:x_1+hs].sum(-1)*maxsamp,'k-')\n",
    "\n",
    "# calculate the sum of the PSF w.r.t to no over sampling\n",
    "facto = np.linspace(1,maxsamp,maxsamp)\n",
    "maxiter = 4\n",
    "color = iter(cm.rainbow(np.linspace(0,1,maxiter+1)))\n",
    "c = 'k'\n",
    "delta = []\n",
    "for n in facto:\n",
    "    p.sample_factor = n\n",
    "    if n < maxiter:\n",
    "        ax.step(x[hpw,:],p(x,y)[:,hpw],where='mid',color=c,label='$n=%d$'%(n))\n",
    "        c = next(color)\n",
    "    \n",
    "    kk = p._oversample_model(x,y,n,\n",
    "          p.amplitude.value,p.x_0.value,p.y_0.value,p.fwhm.value,p.alpha.value)\n",
    "    delta.append((k.sum()-kk.sum())/k.sum())\n",
    "\n",
    "ax.step(x[hpw,:],p(x,y)[:,hpw],where='mid',color=c,label='$n=%d$'%(n))\n",
    "ax.legend(loc=1,ncol=1,prop={'size':8})\n",
    "ax.set_ylabel('Relative flux')\n",
    "ax.set_xlabel('x (px)')\n",
    "ax.set_title('Profile')\n",
    "\n",
    "# convert the delta to a relative improvement over the preceding \n",
    "# oversampling factor\n",
    "delta = np.array(delta)\n",
    "delta = (delta[1:] - delta[:-1])/(delta[1:])\n",
    "\n",
    "ax = fig.add_subplot(133)\n",
    "ax.plot(facto[:-1],delta,marker='.',ls='')\n",
    "ax.axhline(0.,color='k',ls=':')\n",
    "ax.set_ylabel('relative improvement')\n",
    "ax.set_xlabel('oversampling factor')\n",
    "ax.set_ylim((0.,0.04))\n",
    "#ax.axhline(0.01,color='k',ls=':')\n",
    "#ax.imshow(kk,interpolation='nearest',origin='lower')\n",
    "\n",
    "plt.show()\n",
    "plt.close()"
   ]
  },
  {
   "cell_type": "markdown",
   "metadata": {},
   "source": [
    "The first panel (PSF) above shows the Moffat profile in the original resolution.\n",
    "\n",
    "The second panel shows the pixel values for different oversampling factors ($n=1,2,3,21$) along the intersection indicated by the dashed line in the PSF panel.  The dotted line in the background show the profile along this line for the highest oversampling factor before rebinning back to the original resolution (i.e. close to the theoretical profile).  For $n=1$ we see that the binned values are simply drawn from the central values of the theoretical profile for each bin, while for higher sampling factor the average is calculated in each bin to conserve the surface brightness.  Keep in mind that this is a 1D represenation of the 2D profile, which explains why for example the central bin appears higher than what is suggested by the figure.\n",
    "\n",
    "The third panel is showing how the relative improvement in the total flux of the profile with respect to the previous oversampling factor."
   ]
  },
  {
   "cell_type": "markdown",
   "metadata": {
    "collapsed": true
   },
   "source": [
    "# Sersic"
   ]
  },
  {
   "cell_type": "code",
   "execution_count": null,
   "metadata": {
    "collapsed": false
   },
   "outputs": [],
   "source": [
    "import numpy as np\n",
    "import matplotlib.pyplot as plt\n",
    "from jfit.models import Sersic2D\n",
    "\n",
    "# setup grid\n",
    "hpw = 10\n",
    "nx,ny = 2*hpw+1,2*hpw+1\n",
    "y, x = np.mgrid[:nx, :ny]\n",
    "\n",
    "s = Sersic2D(x_0=hpw,y_0=hpw,n=2,r_eff=0.5*hpw)\n",
    "ss = s(x,y)\n",
    "\n",
    "fig = plt.figure()\n",
    "ax = fig.add_subplot(111)\n",
    "ax.imshow(ss**0.25,vmin=0.,vmax=np.max(ss**0.25),origin='lower',cmap='gray')\n",
    "plt.show()\n",
    "plt.close()"
   ]
  },
  {
   "cell_type": "markdown",
   "metadata": {},
   "source": [
    "# Convolution\n",
    "Illustrate the effect of image convolution"
   ]
  },
  {
   "cell_type": "code",
   "execution_count": 27,
   "metadata": {
    "collapsed": false
   },
   "outputs": [
    {
     "name": "stdout",
     "output_type": "stream",
     "text": [
      "Model: Gaussian2D\n",
      "Inputs: (u'x', u'y')\n",
      "Outputs: (u'z',)\n",
      "Model set size: 1\n",
      "Parameters:\n",
      "      amplitude    x_mean y_mean    x_stddev     y_stddev         theta       \n",
      "    -------------- ------ ------ ------------- ------------ ------------------\n",
      "    0.011701822038   30.0   15.0 3.74568398477 3.7776311982 -1.80547743725e-15\n",
      "Relative difference between theoretical sigma and fitted: 0.26\n"
     ]
    },
    {
     "data": {
      "image/png": "[encoded data removed]",
      "text/plain": [
       "<matplotlib.figure.Figure at 0x110ea24d0>"
      ]
     },
     "metadata": {},
     "output_type": "display_data"
    }
   ],
   "source": [
    "import numpy as np\n",
    "import matplotlib.pyplot as plt\n",
    "from astropy.modeling import models, fitting\n",
    "from jfit.psf import SymmetricGaussian2D\n",
    "\n",
    "def xy_data(nx=5,ny=7):\n",
    "    # generate data\n",
    "    y, x = np.mgrid[:nx, :ny]\n",
    "    return x,y\n",
    "\n",
    "s = (31,61)\n",
    "fwhmi = 7\n",
    "factor = 5\n",
    "i = SymmetricGaussian2D(x_0=(s[1]-1)/2,y_0=(s[0]-1)/2,fwhm=fwhmi)\n",
    "i.oversample_factor(factor)\n",
    "\n",
    "# assign Gaussian kernel\n",
    "fwhmk = 5\n",
    "khpw = 2*fwhmk        # kernel half-width\n",
    "k = SymmetricGaussian2D(fwhm=fwhmk)\n",
    "i.set_kernel(k,khpw)\n",
    "\n",
    "# evaluate model\n",
    "x,y = xy_data(s[0],s[1])\n",
    "m = i(x,y)\n",
    "\n",
    "# extract 1D slice\n",
    "mmax = m.max()\n",
    "mask = m == mmax\n",
    "x0,y0 = x[mask],y[mask]\n",
    "zz,xx = m[y0,:].ravel(),x[y0,:].ravel()\n",
    "\n",
    "# fit 1D Gaussian to slice\n",
    "# Fit the data using a Gaussian\n",
    "g_init = models.Gaussian2D(amplitude=zz.max(), x_mean=(s[1]-1)/2, y_mean=(s[0]-1)/2,\n",
    "                           x_stddev=fwhmi,y_stddev=fwhmi)\n",
    "fit_g = fitting.LevMarLSQFitter()\n",
    "g = fit_g(g_init, x, y, m)\n",
    "print g\n",
    "\n",
    "# plot\n",
    "fig = plt.figure()\n",
    "ax = fig.add_subplot(111)\n",
    "ax.step(xx,zz,where='mid',color='k',label='Image slice')\n",
    "\n",
    "gi = models.Gaussian1D(amplitude=g.amplitude.value, mean=g.x_mean.value, stddev=stddevi)\n",
    "tx = np.linspace(xx.min(),xx.max(),300)\n",
    "ax.plot(tx,gi(tx),color='r',ls='-',label='Original image PSF')\n",
    "\n",
    "stddevi,stddevk = fwhmi/2.35,fwhmk/2.35\n",
    "stddevt = np.sqrt(stddevi**2 + stddevk**2)\n",
    "gt = models.Gaussian1D(amplitude=g.amplitude.value, mean=g.x_mean.value, stddev=stddevt)\n",
    "ax.plot(tx,gt(tx),color='b',ls='-',label='Fitted Gaussian to the image')\n",
    "ax.legend(loc=1,numpoints=1,prop={'size':8})\n",
    "ax.set_xlabel('x (px)')\n",
    "ax.set_ylabel('counts')\n",
    "\n",
    "print \"Relative difference between theoretical sigma and fitted: %.2f\"%((g.x_stddev.value-stddevi)/stddevi)\n",
    "\n",
    "plt.show()\n",
    "plt.close()"
   ]
  },
  {
   "cell_type": "code",
   "execution_count": null,
   "metadata": {
    "collapsed": true
   },
   "outputs": [],
   "source": []
  }
 ],
 "metadata": {
  "anaconda-cloud": {},
  "kernelspec": {
   "display_name": "Python [default]",
   "language": "python",
   "name": "python2"
  },
  "language_info": {
   "codemirror_mode": {
    "name": "ipython",
    "version": 2
   },
   "file_extension": ".py",
   "mimetype": "text/x-python",
   "name": "python",
   "nbconvert_exporter": "python",
   "pygments_lexer": "ipython2",
   "version": "2.7.12"
  }
 },
 "nbformat": 4,
 "nbformat_minor": 1
}
